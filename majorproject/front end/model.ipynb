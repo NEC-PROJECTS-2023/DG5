{
 "cells": [
  {
   "cell_type": "markdown",
   "id": "ec98f14f",
   "metadata": {},
   "source": [
    "## Importing all libraries"
   ]
  },
  {
   "cell_type": "code",
   "execution_count": 1,
   "id": "6119bead",
   "metadata": {},
   "outputs": [],
   "source": [
    "import pandas as pd\n",
    "import numpy as np\n",
    "\n",
    "# Data visualization\n",
    "import matplotlib.pyplot as plt\n",
    "import seaborn as sb\n",
    "from pandas.plotting import scatter_matrix\n",
    "\n",
    "# Machine Learning Algorithms\n",
    "from sklearn.ensemble import RandomForestRegressor\n",
    "\n",
    "# For Missing Values\n",
    "from sklearn.impute import SimpleImputer\n",
    "\n",
    "#For Pickle\n",
    "import pickle"
   ]
  },
  {
   "cell_type": "markdown",
   "id": "a49daece",
   "metadata": {},
   "source": [
    "## Importing Dataset"
   ]
  },
  {
   "cell_type": "code",
   "execution_count": 2,
   "id": "80ba06a1",
   "metadata": {},
   "outputs": [],
   "source": [
    "fifa_raw_dataset = pd.read_csv(\"C:/Users/Hello/Documents/players_20.csv\")"
   ]
  },
  {
   "cell_type": "markdown",
   "id": "68bb4164",
   "metadata": {},
   "source": [
    "## Reading required columns"
   ]
  },
  {
   "cell_type": "code",
   "execution_count": 3,
   "id": "9c02fbbd",
   "metadata": {},
   "outputs": [],
   "source": [
    "features = ['international_reputation', 'overall', 'potential','mentality_composure','age','height_cm','weight_kg','shooting','passing','dribbling','value_eur']\n",
    "fifa_dataset = fifa_raw_dataset[[*features]]"
   ]
  },
  {
   "cell_type": "markdown",
   "id": "1f9ea569",
   "metadata": {},
   "source": [
    "## Replacing Nan Values"
   ]
  },
  {
   "cell_type": "code",
   "execution_count": 4,
   "id": "dad462d9",
   "metadata": {},
   "outputs": [],
   "source": [
    "fifa_dataset = fifa_dataset.replace(0,np.nan)"
   ]
  },
  {
   "cell_type": "code",
   "execution_count": 5,
   "id": "164b8233",
   "metadata": {},
   "outputs": [],
   "source": [
    "imputer = SimpleImputer(strategy=\"median\")\n",
    "imputer.fit(fifa_dataset)\n",
    "tf = imputer.transform(fifa_dataset)\n",
    "fifa_dataset_tf = pd.DataFrame(tf, columns=fifa_dataset.columns)"
   ]
  },
  {
   "cell_type": "code",
   "execution_count": 6,
   "id": "69692930",
   "metadata": {},
   "outputs": [],
   "source": [
    "x = fifa_dataset_tf.drop(\"value_eur\", axis=1)\n",
    "y = fifa_dataset_tf[\"value_eur\"].copy()"
   ]
  },
  {
   "cell_type": "markdown",
   "id": "0ee75ea4",
   "metadata": {},
   "source": [
    "## Fitting the model"
   ]
  },
  {
   "cell_type": "code",
   "execution_count": 7,
   "id": "12e39bb2",
   "metadata": {},
   "outputs": [
    {
     "data": {
      "text/plain": [
       "RandomForestRegressor(max_features=4, n_estimators=10, random_state=42)"
      ]
     },
     "execution_count": 7,
     "metadata": {},
     "output_type": "execute_result"
    }
   ],
   "source": [
    "forest_reg = RandomForestRegressor(max_features=4, n_estimators=10, random_state=42)\n",
    "forest_reg.fit(x, y)"
   ]
  },
  {
   "cell_type": "markdown",
   "id": "89a3bdc8",
   "metadata": {},
   "source": [
    "## Saving model to disk"
   ]
  },
  {
   "cell_type": "code",
   "execution_count": 8,
   "id": "d4723b9e",
   "metadata": {},
   "outputs": [],
   "source": [
    "pickle.dump(forest_reg, open('model.pkl','wb'))"
   ]
  }
 ],
 "metadata": {
  "kernelspec": {
   "display_name": "Python 3 (ipykernel)",
   "language": "python",
   "name": "python3"
  },
  "language_info": {
   "codemirror_mode": {
    "name": "ipython",
    "version": 3
   },
   "file_extension": ".py",
   "mimetype": "text/x-python",
   "name": "python",
   "nbconvert_exporter": "python",
   "pygments_lexer": "ipython3",
   "version": "3.9.12"
  }
 },
 "nbformat": 4,
 "nbformat_minor": 5
}
